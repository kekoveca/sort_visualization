{
 "cells": [
  {
   "cell_type": "code",
   "execution_count": 54,
   "metadata": {},
   "outputs": [],
   "source": [
    "import pandas as pd\n",
    "import numpy  as np\n",
    "import matplotlib.pyplot as plt\n",
    "from PIL import Image"
   ]
  },
  {
   "cell_type": "code",
   "execution_count": 55,
   "metadata": {},
   "outputs": [],
   "source": [
    "def createGif(sortName):\n",
    "    df = pd.read_csv(f\"out/{sortName}.csv\", header= None)\n",
    "\n",
    "    max_val = df.iloc[0, :].max()\n",
    "    min_val = df.iloc[0, :].min()\n",
    "    x = np.arange(df.shape[1])\n",
    "\n",
    "    for t in range(df.shape[0]):\n",
    "        plt.figure(figsize=(6, 6))\n",
    "        plt.bar(x, df.iloc[t, :], color = 'grey')\n",
    "        plt.ylim([min_val,max_val])\n",
    "        plt.title(f'{sortName}: step {t}',\n",
    "              fontsize=14)\n",
    "        plt.savefig(f'./img/{sortName}/img_{t}.png', \n",
    "                transparent = False,  \n",
    "                facecolor = 'white'\n",
    "               )\n",
    "        plt.close()\n",
    "\n",
    "\n",
    "    image_path_list = [f'./img/{sortName}/img_{i}.png' for i in range(df.shape[0])]\n",
    "    image_list = [Image.open(file) for file in image_path_list]\n",
    "    image_list[0].save(\n",
    "                f'gifs/{sortName}.gif',\n",
    "                save_all=True,\n",
    "                append_images=image_list[1:], # append rest of the images\n",
    "                duration=0.01, # in milliseconds\n",
    "                loop=0)"
   ]
  },
  {
   "cell_type": "code",
   "execution_count": 56,
   "metadata": {},
   "outputs": [],
   "source": [
    "sortNames = ['BubbleSort', 'ShakerSort', 'CombSort', 'InsertionSort', 'QuickSort', 'MergeSort', 'HeapSort']\n",
    "for sort in sortNames:\n",
    "    createGif(sort)"
   ]
  },
  {
   "cell_type": "code",
   "execution_count": null,
   "metadata": {},
   "outputs": [],
   "source": []
  }
 ],
 "metadata": {
  "kernelspec": {
   "display_name": "Python 3",
   "language": "python",
   "name": "python3"
  },
  "language_info": {
   "codemirror_mode": {
    "name": "ipython",
    "version": 3
   },
   "file_extension": ".py",
   "mimetype": "text/x-python",
   "name": "python",
   "nbconvert_exporter": "python",
   "pygments_lexer": "ipython3",
   "version": "3.11.8"
  }
 },
 "nbformat": 4,
 "nbformat_minor": 2
}
